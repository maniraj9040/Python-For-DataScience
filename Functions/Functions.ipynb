{
 "cells": [
  {
   "cell_type": "markdown",
   "metadata": {},
   "source": [
    "# doc string\n",
    "\n",
    "the first string after the functino header is called as doc string\n",
    "\n",
    "although it is optional , documentation is a good programming practice "
   ]
  },
  {
   "cell_type": "code",
   "execution_count": 1,
   "metadata": {},
   "outputs": [
    {
     "name": "stdout",
     "output_type": "stream",
     "text": [
      "Hello  mani\n"
     ]
    }
   ],
   "source": [
    "def print_name(name):\n",
    "    \"\"\" This function prints name \"\"\"\n",
    "    print('Hello ',str(name))\n",
    "print_name('mani')"
   ]
  },
  {
   "cell_type": "code",
   "execution_count": 3,
   "metadata": {},
   "outputs": [
    {
     "name": "stdout",
     "output_type": "stream",
     "text": [
      " This function prints name \n"
     ]
    }
   ],
   "source": [
    "print(print_name.__doc__) # print doc string of the function"
   ]
  },
  {
   "cell_type": "code",
   "execution_count": 4,
   "metadata": {},
   "outputs": [
    {
     "name": "stdout",
     "output_type": "stream",
     "text": [
      "15\n"
     ]
    }
   ],
   "source": [
    "def get_sum(lst):\n",
    "    sum = 0\n",
    "    \n",
    "    for num in lst:\n",
    "        sum = sum + num\n",
    "        return sum\n",
    "\n",
    "result = sum([1,2,3,4,5])\n",
    "print(result)"
   ]
  },
  {
   "cell_type": "markdown",
   "metadata": {},
   "source": [
    "# scope"
   ]
  },
  {
   "cell_type": "code",
   "execution_count": 10,
   "metadata": {},
   "outputs": [
    {
     "name": "stdout",
     "output_type": "stream",
     "text": [
      "inside function :  this is a local variable \n",
      "inside function :  this is a global variable \n",
      "outside function:  this is a global variable \n"
     ]
    },
    {
     "ename": "NameError",
     "evalue": "name 'local_variable' is not defined",
     "output_type": "error",
     "traceback": [
      "\u001b[1;31m---------------------------------------------------------------------------\u001b[0m",
      "\u001b[1;31mNameError\u001b[0m                                 Traceback (most recent call last)",
      "\u001b[1;32m<ipython-input-10-48ad19ac9074>\u001b[0m in \u001b[0;36m<module>\u001b[1;34m\u001b[0m\n\u001b[0;32m      9\u001b[0m \u001b[0mtest_life_time\u001b[0m\u001b[1;33m(\u001b[0m\u001b[1;33m)\u001b[0m\u001b[1;33m\u001b[0m\u001b[0m\n\u001b[0;32m     10\u001b[0m \u001b[0mprint\u001b[0m\u001b[1;33m(\u001b[0m\u001b[1;34m'outside function: '\u001b[0m\u001b[1;33m,\u001b[0m\u001b[0mglobal_variable\u001b[0m\u001b[1;33m)\u001b[0m\u001b[1;33m\u001b[0m\u001b[0m\n\u001b[1;32m---> 11\u001b[1;33m \u001b[0mprint\u001b[0m\u001b[1;33m(\u001b[0m\u001b[1;34m'outside function : '\u001b[0m\u001b[1;33m,\u001b[0m\u001b[0mlocal_variable\u001b[0m\u001b[1;33m)\u001b[0m\u001b[1;33m\u001b[0m\u001b[0m\n\u001b[0m",
      "\u001b[1;31mNameError\u001b[0m: name 'local_variable' is not defined"
     ]
    }
   ],
   "source": [
    "global_variable = \"this is a global variable \"\n",
    "\n",
    "def test_life_time():\n",
    "    \"\"\" This function test the life time of a variable \"\"\"\n",
    "    \n",
    "    local_variable = \"this is a local variable \"\n",
    "    print('inside function : ',local_variable)\n",
    "    print('inside function : ',global_variable)\n",
    "test_life_time()\n",
    "print('outside function: ',global_variable)\n",
    "print('outside function : ',local_variable)\n"
   ]
  },
  {
   "cell_type": "markdown",
   "metadata": {},
   "source": [
    "# compute HCF of two numbers\n"
   ]
  },
  {
   "cell_type": "code",
   "execution_count": 12,
   "metadata": {},
   "outputs": [
    {
     "name": "stdout",
     "output_type": "stream",
     "text": [
      "1\n"
     ]
    }
   ],
   "source": [
    "def hcf(a,b):\n",
    "    \"\"\" computing HCF of tow numbers \"\"\"\n",
    "    \n",
    "    smaller = b if a>b else a\n",
    "    \n",
    "    hcf = 1\n",
    "    for i in range(1,smaller+1):\n",
    "        if (a % i == 0) and (b % i == 0):\n",
    "            hcf = i\n",
    "        return hcf\n",
    "    \n",
    "result = hcf(98,97)\n",
    "print(result)"
   ]
  },
  {
   "cell_type": "markdown",
   "metadata": {},
   "source": [
    "# types of functions\n",
    "\n",
    "1 Built-in functions \n",
    "\n",
    "2 user defined functions"
   ]
  },
  {
   "cell_type": "markdown",
   "metadata": {},
   "source": [
    "# Built-in functions"
   ]
  },
  {
   "cell_type": "markdown",
   "metadata": {},
   "source": [
    "# 1.abs()"
   ]
  },
  {
   "cell_type": "code",
   "execution_count": 13,
   "metadata": {},
   "outputs": [
    {
     "name": "stdout",
     "output_type": "stream",
     "text": [
      "100\n"
     ]
    }
   ],
   "source": [
    "num = -100\n",
    "print(abs(num))"
   ]
  },
  {
   "cell_type": "markdown",
   "metadata": {},
   "source": [
    "# 2.all()\n",
    "\n",
    "retuns \n",
    "\n",
    "True : if all elements in an iterable are true\n",
    "\n",
    "False : if any element in an iterable is False"
   ]
  },
  {
   "cell_type": "code",
   "execution_count": 14,
   "metadata": {},
   "outputs": [
    {
     "name": "stdout",
     "output_type": "stream",
     "text": [
      "True\n"
     ]
    }
   ],
   "source": [
    "lst = [1,2,3,4,5,6]\n",
    "print(all(lst))"
   ]
  },
  {
   "cell_type": "code",
   "execution_count": 15,
   "metadata": {},
   "outputs": [
    {
     "name": "stdout",
     "output_type": "stream",
     "text": [
      "True\n"
     ]
    }
   ],
   "source": [
    "lst = [1,-2,3]\n",
    "print(all(lst))"
   ]
  },
  {
   "cell_type": "code",
   "execution_count": 16,
   "metadata": {},
   "outputs": [
    {
     "name": "stdout",
     "output_type": "stream",
     "text": [
      "False\n"
     ]
    }
   ],
   "source": [
    "lst = [0,1,2,3]  \n",
    "print(all(lst))  # returns false as the list contains 0"
   ]
  },
  {
   "cell_type": "code",
   "execution_count": 17,
   "metadata": {},
   "outputs": [
    {
     "name": "stdout",
     "output_type": "stream",
     "text": [
      "True\n"
     ]
    }
   ],
   "source": [
    "lst = []\n",
    "print(all(lst))"
   ]
  },
  {
   "cell_type": "code",
   "execution_count": 21,
   "metadata": {},
   "outputs": [
    {
     "name": "stdout",
     "output_type": "stream",
     "text": [
      "False\n"
     ]
    }
   ],
   "source": [
    "lst = [False,'a','b','c']\n",
    "print(all(lst))"
   ]
  },
  {
   "cell_type": "markdown",
   "metadata": {},
   "source": [
    "# dir\n",
    "\n",
    "dir() tries to return a list of valid attributes of the object that can be performed on that object\n",
    " "
   ]
  },
  {
   "cell_type": "code",
   "execution_count": 22,
   "metadata": {},
   "outputs": [
    {
     "name": "stdout",
     "output_type": "stream",
     "text": [
      "['__add__', '__class__', '__contains__', '__delattr__', '__delitem__', '__dir__', '__doc__', '__eq__', '__format__', '__ge__', '__getattribute__', '__getitem__', '__gt__', '__hash__', '__iadd__', '__imul__', '__init__', '__init_subclass__', '__iter__', '__le__', '__len__', '__lt__', '__mul__', '__ne__', '__new__', '__reduce__', '__reduce_ex__', '__repr__', '__reversed__', '__rmul__', '__setattr__', '__setitem__', '__sizeof__', '__str__', '__subclasshook__', 'append', 'clear', 'copy', 'count', 'extend', 'index', 'insert', 'pop', 'remove', 'reverse', 'sort']\n"
     ]
    }
   ],
   "source": [
    "number = [1,2,3,4]\n",
    "print(dir(number))"
   ]
  },
  {
   "cell_type": "markdown",
   "metadata": {},
   "source": [
    "# divmod()\n",
    "\n",
    "divmod() take two numbers and return a pair of numbers in the form of tuple consisting of quotient and  remainder\n"
   ]
  },
  {
   "cell_type": "code",
   "execution_count": 26,
   "metadata": {},
   "outputs": [
    {
     "name": "stdout",
     "output_type": "stream",
     "text": [
      "(5, 0)\n"
     ]
    }
   ],
   "source": [
    "print(divmod(25,5))"
   ]
  },
  {
   "cell_type": "markdown",
   "metadata": {},
   "source": [
    "# enumerate()\n",
    "\n",
    "enumerate() adds counter to an iterable and returns it"
   ]
  },
  {
   "cell_type": "code",
   "execution_count": 30,
   "metadata": {},
   "outputs": [
    {
     "name": "stdout",
     "output_type": "stream",
     "text": [
      "index 0 has value 1\n",
      "index 1 has value 2\n",
      "index 2 has value 3\n",
      "index 3 has value 4\n",
      "index 4 has value 5\n"
     ]
    }
   ],
   "source": [
    "number = [1,2,3,4,5]\n",
    "\n",
    "for index,num in enumerate(number):\n",
    "    print('index {0} has value {1}'.format(index,num))"
   ]
  },
  {
   "cell_type": "code",
   "execution_count": 31,
   "metadata": {},
   "outputs": [
    {
     "name": "stdout",
     "output_type": "stream",
     "text": [
      "index 10 has value 1\n",
      "index 11 has value 2\n",
      "index 12 has value 3\n",
      "index 13 has value 4\n",
      "index 14 has value 5\n"
     ]
    }
   ],
   "source": [
    "number = [1,2,3,4,5]\n",
    "\n",
    "for index,num in enumerate(number,10):  # starts from given index number\n",
    "    print('index {0} has value {1}'.format(index,num))"
   ]
  },
  {
   "cell_type": "markdown",
   "metadata": {},
   "source": [
    "# filter()\n",
    "\n",
    "The filter() constructs an iterator form elements of an iterable for which a function returns true\n",
    "\n",
    "syntax : filter(function,iterable)\n"
   ]
  },
  {
   "cell_type": "code",
   "execution_count": 32,
   "metadata": {},
   "outputs": [],
   "source": [
    "def find_positive_number(num):\n",
    "    \"\"\" this function returns positive number if the num is positive \"\"\"\n",
    "    \n",
    "    if num > 0 :\n",
    "        return num"
   ]
  },
  {
   "cell_type": "code",
   "execution_count": 35,
   "metadata": {},
   "outputs": [
    {
     "name": "stdout",
     "output_type": "stream",
     "text": [
      "[-10, -9, -8, -7, -6, -5, -4, -3, -2, -1, 0, 1, 2, 3, 4, 5, 6, 7, 8, 9]\n"
     ]
    }
   ],
   "source": [
    "number_list = range(-10,10)\n",
    "print(list(number_list))"
   ]
  },
  {
   "cell_type": "code",
   "execution_count": 37,
   "metadata": {},
   "outputs": [
    {
     "name": "stdout",
     "output_type": "stream",
     "text": [
      "[1, 2, 3, 4, 5, 6, 7, 8, 9]\n"
     ]
    }
   ],
   "source": [
    "positive_numbers = list(filter(find_positive_number,number_list))\n",
    "print(positive_numbers)"
   ]
  },
  {
   "cell_type": "markdown",
   "metadata": {},
   "source": [
    "# isinstance()\n",
    "\n",
    "checks if the object(first argument) is an instance or subclass of classinfo of class(second argument)\n",
    "\n",
    "syntax : isinstance(object, classinfo)\n"
   ]
  },
  {
   "cell_type": "code",
   "execution_count": 38,
   "metadata": {},
   "outputs": [
    {
     "name": "stdout",
     "output_type": "stream",
     "text": [
      "True\n"
     ]
    }
   ],
   "source": [
    "lst = [1,2,3,4,5]\n",
    "print(isinstance(lst,list))"
   ]
  },
  {
   "cell_type": "code",
   "execution_count": 40,
   "metadata": {},
   "outputs": [
    {
     "name": "stdout",
     "output_type": "stream",
     "text": [
      "False\n",
      "True\n"
     ]
    }
   ],
   "source": [
    "t = (1,2,3,4,5)\n",
    "print(isinstance(t,list))\n",
    "print(isinstance(t,tuple))"
   ]
  },
  {
   "cell_type": "markdown",
   "metadata": {},
   "source": [
    "# Map\n",
    "\n",
    "map applies a function to all the items in a input_list\n",
    "\n",
    "syntax : map(function_to_apply,input_list)"
   ]
  },
  {
   "cell_type": "code",
   "execution_count": 42,
   "metadata": {},
   "outputs": [
    {
     "name": "stdout",
     "output_type": "stream",
     "text": [
      "[1, 4, 9, 16, 25]\n"
     ]
    }
   ],
   "source": [
    "number = [1,2,3,4,5]\n",
    "\n",
    "# normal method of computing num^2 for each element in the list\n",
    "square = []\n",
    "for i in number:\n",
    "    square.append(i ** 2)\n",
    "    \n",
    "print(square)"
   ]
  },
  {
   "cell_type": "code",
   "execution_count": 43,
   "metadata": {},
   "outputs": [
    {
     "name": "stdout",
     "output_type": "stream",
     "text": [
      "[1, 4, 9, 16, 25]\n"
     ]
    }
   ],
   "source": [
    "numbers = [1,2,3,4,5]\n",
    "\n",
    "def square(num):\n",
    "    return num ** 2\n",
    "\n",
    "result = list(map(square,numbers))\n",
    "print(result)"
   ]
  },
  {
   "cell_type": "markdown",
   "metadata": {},
   "source": [
    "# reduce()\n",
    "\n",
    "reduce() function is for performing some computation on list and retun the result.\n",
    "\n",
    "it applies a rolling computation to sequential pairs of values in a list "
   ]
  },
  {
   "cell_type": "code",
   "execution_count": 44,
   "metadata": {},
   "outputs": [
    {
     "name": "stdout",
     "output_type": "stream",
     "text": [
      "120\n"
     ]
    }
   ],
   "source": [
    "# product of elements in a list\n",
    "product = 1\n",
    "numbers = [1,2,3,4,5]\n",
    "\n",
    "#traditional way of finding product of elements without using reduce()\n",
    "for num in numbers:\n",
    "    product *= num\n",
    "    \n",
    "print(product)"
   ]
  },
  {
   "cell_type": "code",
   "execution_count": 45,
   "metadata": {},
   "outputs": [
    {
     "name": "stdout",
     "output_type": "stream",
     "text": [
      "120\n"
     ]
    }
   ],
   "source": [
    "#using reduce()\n",
    "from functools import reduce   # in python3\n",
    "numbers = [1,2,3,4,5]\n",
    "\n",
    "def multiply(x,y):\n",
    "    return x*y;\n",
    "\n",
    "product = reduce(multiply,numbers)\n",
    "print(product)"
   ]
  },
  {
   "cell_type": "code",
   "execution_count": null,
   "metadata": {},
   "outputs": [],
   "source": []
  }
 ],
 "metadata": {
  "kernelspec": {
   "display_name": "Python 3",
   "language": "python",
   "name": "python3"
  },
  "language_info": {
   "codemirror_mode": {
    "name": "ipython",
    "version": 3
   },
   "file_extension": ".py",
   "mimetype": "text/x-python",
   "name": "python",
   "nbconvert_exporter": "python",
   "pygments_lexer": "ipython3",
   "version": "3.6.6"
  }
 },
 "nbformat": 4,
 "nbformat_minor": 2
}
